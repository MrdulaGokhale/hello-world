{
 "cells": [
  {
   "cell_type": "markdown",
   "id": "abaafb97",
   "metadata": {},
   "source": [
    "<div align=\"center\"><h1> Analysis on Facebook Utilization  </h1></div>\n",
    "<p align=\"center\"><img src=\"https://tse4.mm.bing.net/th?id=OIP.t8-8ZArVZr7t0UWzVdbKZgHaGR&pid=Api&P=0&w=223&h=189\"\n",
    " width=\"260\" height=\"110\" /></p>     "
   ]
  },
  {
   "cell_type": "markdown",
   "id": "5325beea",
   "metadata": {},
   "source": [
    "## **Table of Contents**\n",
    "\n",
    "1. [**Introduction**](#Section1)<br>\n",
    "2. [**Problem Statement**](#Section2)<br>\n",
    "3. [**Installing & Importing Libraries**](#Section3)<br>\n",
    "  3.1 [**Installing Libraries**](#Section31)<br>\n",
    "  3.2 [**Upgrading Libraries**](#Section32)<br>\n",
    "  3.3 [**Importing Libraries**](#Section33)<br>\n",
    "4. [**Data Acquisition & Description**](#Section4)<br>\n",
    "5. [**Data Pre-Profiling**](#Section5)<br>\n",
    "6. [**Data Pre-Processing**](#Section6)<br>\n",
    "7. [**Data Post-Profiling**](#Section7)<br>\n",
    "8. [**Exploratory Data Analysis**](#Section8)<br>\n",
    "9. [**Summarization**](#Section9)</br>\n",
    "  9.1 [**Conclusion**](#Section91)</br>\n",
    "  9.2 [**Actionable Insights**](#Section91)</br>\n"
   ]
  },
  {
   "cell_type": "markdown",
   "id": "f598bb1b",
   "metadata": {},
   "source": [
    "##  1. Introduction\n",
    "<a name = Section1></a>\n",
    "\n",
    "In todays changed business environment , it has become crucial for every business to use social media.\n",
    "People from all over the world use social media to share their thoughts and feelings among others.Facebook being popular \n",
    "social media platform , analysis on Facebook utilization can be helpful to identify targeted customers.\n"
   ]
  },
  {
   "cell_type": "markdown",
   "id": "e1347f0a",
   "metadata": {},
   "source": [
    "##  2. Problem Statement\n",
    "<a name = Section2></a>\n",
    "People from all over the world use Facebook as a medium to share their thoughts and feelings among others.\n",
    "People from all age groups are connected with each other through facebook.\n",
    "However, there are certain differences in the way of using it, let's say sending friend requests, sending likes, comments etc.\n",
    "Let's say they want to study and analyze these differences and identify the pattern out of it.\n",
    "\n"
   ]
  },
  {
   "cell_type": "markdown",
   "id": "c481b875",
   "metadata": {},
   "source": [
    "## 3. Installing and Importing Libraries\n",
    "<a name = Section3></a>"
   ]
  },
  {
   "cell_type": "markdown",
   "id": "bfea28a7",
   "metadata": {},
   "source": [
    "### 3.1 Installing Libraries\n",
    "<a name = Section31></a>\n",
    "This section is to Install Libraries required."
   ]
  },
  {
   "cell_type": "code",
   "execution_count": 1,
   "id": "776f439a",
   "metadata": {},
   "outputs": [
    {
     "name": "stderr",
     "output_type": "stream",
     "text": [
      "ERROR: Invalid requirement: '#'\n"
     ]
    }
   ],
   "source": [
    "!pip install -q datascience                                         # Package that is required by pandas profiling\n",
    "!pip install -q pandas-profiling  "
   ]
  },
  {
   "cell_type": "markdown",
   "id": "7fab44e9",
   "metadata": {},
   "source": [
    "### 3.2 Upgrading Libraries\n",
    "<a name = Section32></a>\n",
    "   - After upgrading it is needed to **Restart Runtime** to synchronize libraries\n",
    "   - After restarting the runtime,**Installing and Upgrading** is **not** to be done again."
   ]
  },
  {
   "cell_type": "markdown",
   "id": "56afb801",
   "metadata": {},
   "source": [
    "### 3.3 Importing Libraries\n",
    "<a name = Section33></a>\n",
    "\n",
    "- Basic libraries which are required to be imported.\n"
   ]
  },
  {
   "cell_type": "code",
   "execution_count": 2,
   "id": "8ba4a129",
   "metadata": {},
   "outputs": [],
   "source": [
    "import pandas as pd                                                 # Importing package pandas (For Panel Data Analysis)\n",
    "from pandas_profiling import ProfileReport       \n",
    "import numpy as np  \n",
    "import matplotlib.pyplot as plt                                     # Importing pyplot interface to use matplotlib\n",
    "import seaborn as sns                                               # Importing seaborn library for interactive visualization\n",
    "%matplotlib inline\n",
    "import scipy as sp "
   ]
  },
  {
   "cell_type": "markdown",
   "id": "6022c17e",
   "metadata": {},
   "source": [
    "## 4. Data aquisition and Description\n",
    "<a name = Section4><a/>\n",
    "    \n",
    "   - Description of column headings is given here.\n",
    "    \n",
    "|Id|Feature|Description|\n",
    "|:--|:--|:--|\n",
    "|01| userid                 | A numeric value uniquely identifying the user.|\n",
    "|02| age                    | Age of the user in years.|\n",
    "|03| dob_day                | Day part of the user's date of birth.|\n",
    "|04| dob_year               | Year part of the user's date of birth.| \n",
    "|05| dob_month              | Month part of the user's date of birth.|\n",
    "|06| gender                 | Gender of the user.| \n",
    "|07| tenure                 | Number of days since the user has been on FB.|\n",
    "|08| friend_count           | Number of friends the user has.|\n",
    "|09| friendships_initiated  | Number of friendships initiated by the user.|\n",
    "|10| likes                  | Total number of posts liked by the user.|\n",
    "|11| likes_received         | Total Number of likes received by user's posts.|\n",
    "|12| mobile_likes           | Number of posts liked by the user through mobile app.|\n",
    "|13| mobile_likes_received  | Number of likes received by user through mobile app.|\n",
    "|14| www_likes              | Number of posts liked by the user through web.|\n",
    "|15| www_likes_received     | Number of likes received by user  through web.| \n"
   ]
  },
  {
   "cell_type": "code",
   "execution_count": 3,
   "id": "5bb35bb0",
   "metadata": {},
   "outputs": [
    {
     "name": "stdout",
     "output_type": "stream",
     "text": [
      "Data Shape: (99003, 15)\n"
     ]
    },
    {
     "data": {
      "text/html": [
       "<div>\n",
       "<style scoped>\n",
       "    .dataframe tbody tr th:only-of-type {\n",
       "        vertical-align: middle;\n",
       "    }\n",
       "\n",
       "    .dataframe tbody tr th {\n",
       "        vertical-align: top;\n",
       "    }\n",
       "\n",
       "    .dataframe thead th {\n",
       "        text-align: right;\n",
       "    }\n",
       "</style>\n",
       "<table border=\"1\" class=\"dataframe\">\n",
       "  <thead>\n",
       "    <tr style=\"text-align: right;\">\n",
       "      <th></th>\n",
       "      <th>userid</th>\n",
       "      <th>age</th>\n",
       "      <th>dob_day</th>\n",
       "      <th>dob_year</th>\n",
       "      <th>dob_month</th>\n",
       "      <th>gender</th>\n",
       "      <th>tenure</th>\n",
       "      <th>friend_count</th>\n",
       "      <th>friendships_initiated</th>\n",
       "      <th>likes</th>\n",
       "      <th>likes_received</th>\n",
       "      <th>mobile_likes</th>\n",
       "      <th>mobile_likes_received</th>\n",
       "      <th>www_likes</th>\n",
       "      <th>www_likes_received</th>\n",
       "    </tr>\n",
       "  </thead>\n",
       "  <tbody>\n",
       "    <tr>\n",
       "      <th>0</th>\n",
       "      <td>2094382</td>\n",
       "      <td>14</td>\n",
       "      <td>19</td>\n",
       "      <td>1999</td>\n",
       "      <td>11</td>\n",
       "      <td>male</td>\n",
       "      <td>266.0</td>\n",
       "      <td>0</td>\n",
       "      <td>0</td>\n",
       "      <td>0</td>\n",
       "      <td>0</td>\n",
       "      <td>0</td>\n",
       "      <td>0</td>\n",
       "      <td>0</td>\n",
       "      <td>0</td>\n",
       "    </tr>\n",
       "    <tr>\n",
       "      <th>1</th>\n",
       "      <td>1192601</td>\n",
       "      <td>14</td>\n",
       "      <td>2</td>\n",
       "      <td>1999</td>\n",
       "      <td>11</td>\n",
       "      <td>female</td>\n",
       "      <td>6.0</td>\n",
       "      <td>0</td>\n",
       "      <td>0</td>\n",
       "      <td>0</td>\n",
       "      <td>0</td>\n",
       "      <td>0</td>\n",
       "      <td>0</td>\n",
       "      <td>0</td>\n",
       "      <td>0</td>\n",
       "    </tr>\n",
       "    <tr>\n",
       "      <th>2</th>\n",
       "      <td>2083884</td>\n",
       "      <td>14</td>\n",
       "      <td>16</td>\n",
       "      <td>1999</td>\n",
       "      <td>11</td>\n",
       "      <td>male</td>\n",
       "      <td>13.0</td>\n",
       "      <td>0</td>\n",
       "      <td>0</td>\n",
       "      <td>0</td>\n",
       "      <td>0</td>\n",
       "      <td>0</td>\n",
       "      <td>0</td>\n",
       "      <td>0</td>\n",
       "      <td>0</td>\n",
       "    </tr>\n",
       "    <tr>\n",
       "      <th>3</th>\n",
       "      <td>1203168</td>\n",
       "      <td>14</td>\n",
       "      <td>25</td>\n",
       "      <td>1999</td>\n",
       "      <td>12</td>\n",
       "      <td>female</td>\n",
       "      <td>93.0</td>\n",
       "      <td>0</td>\n",
       "      <td>0</td>\n",
       "      <td>0</td>\n",
       "      <td>0</td>\n",
       "      <td>0</td>\n",
       "      <td>0</td>\n",
       "      <td>0</td>\n",
       "      <td>0</td>\n",
       "    </tr>\n",
       "    <tr>\n",
       "      <th>4</th>\n",
       "      <td>1733186</td>\n",
       "      <td>14</td>\n",
       "      <td>4</td>\n",
       "      <td>1999</td>\n",
       "      <td>12</td>\n",
       "      <td>male</td>\n",
       "      <td>82.0</td>\n",
       "      <td>0</td>\n",
       "      <td>0</td>\n",
       "      <td>0</td>\n",
       "      <td>0</td>\n",
       "      <td>0</td>\n",
       "      <td>0</td>\n",
       "      <td>0</td>\n",
       "      <td>0</td>\n",
       "    </tr>\n",
       "  </tbody>\n",
       "</table>\n",
       "</div>"
      ],
      "text/plain": [
       "    userid  age  dob_day  dob_year  dob_month  gender  tenure  friend_count  \\\n",
       "0  2094382   14       19      1999         11    male   266.0             0   \n",
       "1  1192601   14        2      1999         11  female     6.0             0   \n",
       "2  2083884   14       16      1999         11    male    13.0             0   \n",
       "3  1203168   14       25      1999         12  female    93.0             0   \n",
       "4  1733186   14        4      1999         12    male    82.0             0   \n",
       "\n",
       "   friendships_initiated  likes  likes_received  mobile_likes  \\\n",
       "0                      0      0               0             0   \n",
       "1                      0      0               0             0   \n",
       "2                      0      0               0             0   \n",
       "3                      0      0               0             0   \n",
       "4                      0      0               0             0   \n",
       "\n",
       "   mobile_likes_received  www_likes  www_likes_received  \n",
       "0                      0          0                   0  \n",
       "1                      0          0                   0  \n",
       "2                      0          0                   0  \n",
       "3                      0          0                   0  \n",
       "4                      0          0                   0  "
      ]
     },
     "execution_count": 3,
     "metadata": {},
     "output_type": "execute_result"
    }
   ],
   "source": [
    "data = pd.read_csv(filepath_or_buffer = 'https://raw.githubusercontent.com/insaid2018/Term-1/master/Data/Projects/facebook_data.csv')\n",
    "print('Data Shape:', data.shape)\n",
    "data.head()"
   ]
  },
  {
   "cell_type": "markdown",
   "id": "19b7ad1d",
   "metadata": {},
   "source": [
    "## Data Description\n",
    "- We will use .describe() method to get quick description of data."
   ]
  },
  {
   "cell_type": "code",
   "execution_count": 4,
   "id": "4d9fd620",
   "metadata": {},
   "outputs": [
    {
     "data": {
      "text/html": [
       "<div>\n",
       "<style scoped>\n",
       "    .dataframe tbody tr th:only-of-type {\n",
       "        vertical-align: middle;\n",
       "    }\n",
       "\n",
       "    .dataframe tbody tr th {\n",
       "        vertical-align: top;\n",
       "    }\n",
       "\n",
       "    .dataframe thead th {\n",
       "        text-align: right;\n",
       "    }\n",
       "</style>\n",
       "<table border=\"1\" class=\"dataframe\">\n",
       "  <thead>\n",
       "    <tr style=\"text-align: right;\">\n",
       "      <th></th>\n",
       "      <th>userid</th>\n",
       "      <th>age</th>\n",
       "      <th>dob_day</th>\n",
       "      <th>dob_year</th>\n",
       "      <th>dob_month</th>\n",
       "      <th>tenure</th>\n",
       "      <th>friend_count</th>\n",
       "      <th>friendships_initiated</th>\n",
       "      <th>likes</th>\n",
       "      <th>likes_received</th>\n",
       "      <th>mobile_likes</th>\n",
       "      <th>mobile_likes_received</th>\n",
       "      <th>www_likes</th>\n",
       "      <th>www_likes_received</th>\n",
       "    </tr>\n",
       "  </thead>\n",
       "  <tbody>\n",
       "    <tr>\n",
       "      <th>count</th>\n",
       "      <td>9.900300e+04</td>\n",
       "      <td>99003.000000</td>\n",
       "      <td>99003.000000</td>\n",
       "      <td>99003.000000</td>\n",
       "      <td>99003.000000</td>\n",
       "      <td>99001.000000</td>\n",
       "      <td>99003.000000</td>\n",
       "      <td>99003.000000</td>\n",
       "      <td>99003.000000</td>\n",
       "      <td>99003.000000</td>\n",
       "      <td>99003.000000</td>\n",
       "      <td>99003.000000</td>\n",
       "      <td>99003.000000</td>\n",
       "      <td>99003.000000</td>\n",
       "    </tr>\n",
       "    <tr>\n",
       "      <th>mean</th>\n",
       "      <td>1.597045e+06</td>\n",
       "      <td>37.280224</td>\n",
       "      <td>14.530408</td>\n",
       "      <td>1975.719776</td>\n",
       "      <td>6.283365</td>\n",
       "      <td>537.887375</td>\n",
       "      <td>196.350787</td>\n",
       "      <td>107.452471</td>\n",
       "      <td>156.078785</td>\n",
       "      <td>142.689363</td>\n",
       "      <td>106.116300</td>\n",
       "      <td>84.120491</td>\n",
       "      <td>49.962425</td>\n",
       "      <td>58.568831</td>\n",
       "    </tr>\n",
       "    <tr>\n",
       "      <th>std</th>\n",
       "      <td>3.440592e+05</td>\n",
       "      <td>22.589748</td>\n",
       "      <td>9.015606</td>\n",
       "      <td>22.589748</td>\n",
       "      <td>3.529672</td>\n",
       "      <td>457.649874</td>\n",
       "      <td>387.304229</td>\n",
       "      <td>188.786951</td>\n",
       "      <td>572.280681</td>\n",
       "      <td>1387.919613</td>\n",
       "      <td>445.252985</td>\n",
       "      <td>839.889444</td>\n",
       "      <td>285.560152</td>\n",
       "      <td>601.416348</td>\n",
       "    </tr>\n",
       "    <tr>\n",
       "      <th>min</th>\n",
       "      <td>1.000008e+06</td>\n",
       "      <td>13.000000</td>\n",
       "      <td>1.000000</td>\n",
       "      <td>1900.000000</td>\n",
       "      <td>1.000000</td>\n",
       "      <td>0.000000</td>\n",
       "      <td>0.000000</td>\n",
       "      <td>0.000000</td>\n",
       "      <td>0.000000</td>\n",
       "      <td>0.000000</td>\n",
       "      <td>0.000000</td>\n",
       "      <td>0.000000</td>\n",
       "      <td>0.000000</td>\n",
       "      <td>0.000000</td>\n",
       "    </tr>\n",
       "    <tr>\n",
       "      <th>25%</th>\n",
       "      <td>1.298806e+06</td>\n",
       "      <td>20.000000</td>\n",
       "      <td>7.000000</td>\n",
       "      <td>1963.000000</td>\n",
       "      <td>3.000000</td>\n",
       "      <td>226.000000</td>\n",
       "      <td>31.000000</td>\n",
       "      <td>17.000000</td>\n",
       "      <td>1.000000</td>\n",
       "      <td>1.000000</td>\n",
       "      <td>0.000000</td>\n",
       "      <td>0.000000</td>\n",
       "      <td>0.000000</td>\n",
       "      <td>0.000000</td>\n",
       "    </tr>\n",
       "    <tr>\n",
       "      <th>50%</th>\n",
       "      <td>1.596148e+06</td>\n",
       "      <td>28.000000</td>\n",
       "      <td>14.000000</td>\n",
       "      <td>1985.000000</td>\n",
       "      <td>6.000000</td>\n",
       "      <td>412.000000</td>\n",
       "      <td>82.000000</td>\n",
       "      <td>46.000000</td>\n",
       "      <td>11.000000</td>\n",
       "      <td>8.000000</td>\n",
       "      <td>4.000000</td>\n",
       "      <td>4.000000</td>\n",
       "      <td>0.000000</td>\n",
       "      <td>2.000000</td>\n",
       "    </tr>\n",
       "    <tr>\n",
       "      <th>75%</th>\n",
       "      <td>1.895744e+06</td>\n",
       "      <td>50.000000</td>\n",
       "      <td>22.000000</td>\n",
       "      <td>1993.000000</td>\n",
       "      <td>9.000000</td>\n",
       "      <td>675.000000</td>\n",
       "      <td>206.000000</td>\n",
       "      <td>117.000000</td>\n",
       "      <td>81.000000</td>\n",
       "      <td>59.000000</td>\n",
       "      <td>46.000000</td>\n",
       "      <td>33.000000</td>\n",
       "      <td>7.000000</td>\n",
       "      <td>20.000000</td>\n",
       "    </tr>\n",
       "    <tr>\n",
       "      <th>max</th>\n",
       "      <td>2.193542e+06</td>\n",
       "      <td>113.000000</td>\n",
       "      <td>31.000000</td>\n",
       "      <td>2000.000000</td>\n",
       "      <td>12.000000</td>\n",
       "      <td>3139.000000</td>\n",
       "      <td>4923.000000</td>\n",
       "      <td>4144.000000</td>\n",
       "      <td>25111.000000</td>\n",
       "      <td>261197.000000</td>\n",
       "      <td>25111.000000</td>\n",
       "      <td>138561.000000</td>\n",
       "      <td>14865.000000</td>\n",
       "      <td>129953.000000</td>\n",
       "    </tr>\n",
       "  </tbody>\n",
       "</table>\n",
       "</div>"
      ],
      "text/plain": [
       "             userid           age       dob_day      dob_year     dob_month  \\\n",
       "count  9.900300e+04  99003.000000  99003.000000  99003.000000  99003.000000   \n",
       "mean   1.597045e+06     37.280224     14.530408   1975.719776      6.283365   \n",
       "std    3.440592e+05     22.589748      9.015606     22.589748      3.529672   \n",
       "min    1.000008e+06     13.000000      1.000000   1900.000000      1.000000   \n",
       "25%    1.298806e+06     20.000000      7.000000   1963.000000      3.000000   \n",
       "50%    1.596148e+06     28.000000     14.000000   1985.000000      6.000000   \n",
       "75%    1.895744e+06     50.000000     22.000000   1993.000000      9.000000   \n",
       "max    2.193542e+06    113.000000     31.000000   2000.000000     12.000000   \n",
       "\n",
       "             tenure  friend_count  friendships_initiated         likes  \\\n",
       "count  99001.000000  99003.000000           99003.000000  99003.000000   \n",
       "mean     537.887375    196.350787             107.452471    156.078785   \n",
       "std      457.649874    387.304229             188.786951    572.280681   \n",
       "min        0.000000      0.000000               0.000000      0.000000   \n",
       "25%      226.000000     31.000000              17.000000      1.000000   \n",
       "50%      412.000000     82.000000              46.000000     11.000000   \n",
       "75%      675.000000    206.000000             117.000000     81.000000   \n",
       "max     3139.000000   4923.000000            4144.000000  25111.000000   \n",
       "\n",
       "       likes_received  mobile_likes  mobile_likes_received     www_likes  \\\n",
       "count    99003.000000  99003.000000           99003.000000  99003.000000   \n",
       "mean       142.689363    106.116300              84.120491     49.962425   \n",
       "std       1387.919613    445.252985             839.889444    285.560152   \n",
       "min          0.000000      0.000000               0.000000      0.000000   \n",
       "25%          1.000000      0.000000               0.000000      0.000000   \n",
       "50%          8.000000      4.000000               4.000000      0.000000   \n",
       "75%         59.000000     46.000000              33.000000      7.000000   \n",
       "max     261197.000000  25111.000000          138561.000000  14865.000000   \n",
       "\n",
       "       www_likes_received  \n",
       "count        99003.000000  \n",
       "mean            58.568831  \n",
       "std            601.416348  \n",
       "min              0.000000  \n",
       "25%              0.000000  \n",
       "50%              2.000000  \n",
       "75%             20.000000  \n",
       "max         129953.000000  "
      ]
     },
     "execution_count": 4,
     "metadata": {},
     "output_type": "execute_result"
    }
   ],
   "source": [
    "data.describe()"
   ]
  },
  {
   "cell_type": "markdown",
   "id": "0922308b",
   "metadata": {},
   "source": [
    "## Data Information\n",
    "   - Information about the data can be obtained using .info() method"
   ]
  },
  {
   "cell_type": "code",
   "execution_count": 5,
   "id": "a2d3eda1",
   "metadata": {},
   "outputs": [
    {
     "name": "stdout",
     "output_type": "stream",
     "text": [
      "<class 'pandas.core.frame.DataFrame'>\n",
      "RangeIndex: 99003 entries, 0 to 99002\n",
      "Data columns (total 15 columns):\n",
      " #   Column                 Non-Null Count  Dtype  \n",
      "---  ------                 --------------  -----  \n",
      " 0   userid                 99003 non-null  int64  \n",
      " 1   age                    99003 non-null  int64  \n",
      " 2   dob_day                99003 non-null  int64  \n",
      " 3   dob_year               99003 non-null  int64  \n",
      " 4   dob_month              99003 non-null  int64  \n",
      " 5   gender                 98828 non-null  object \n",
      " 6   tenure                 99001 non-null  float64\n",
      " 7   friend_count           99003 non-null  int64  \n",
      " 8   friendships_initiated  99003 non-null  int64  \n",
      " 9   likes                  99003 non-null  int64  \n",
      " 10  likes_received         99003 non-null  int64  \n",
      " 11  mobile_likes           99003 non-null  int64  \n",
      " 12  mobile_likes_received  99003 non-null  int64  \n",
      " 13  www_likes              99003 non-null  int64  \n",
      " 14  www_likes_received     99003 non-null  int64  \n",
      "dtypes: float64(1), int64(13), object(1)\n",
      "memory usage: 11.3+ MB\n"
     ]
    }
   ],
   "source": [
    "data.info()"
   ]
  },
  {
   "cell_type": "code",
   "execution_count": 6,
   "id": "5a9b7a8d",
   "metadata": {},
   "outputs": [
    {
     "data": {
      "text/plain": [
       "userid                     0\n",
       "age                        0\n",
       "dob_day                    0\n",
       "dob_year                   0\n",
       "dob_month                  0\n",
       "gender                   175\n",
       "tenure                     2\n",
       "friend_count               0\n",
       "friendships_initiated      0\n",
       "likes                      0\n",
       "likes_received             0\n",
       "mobile_likes               0\n",
       "mobile_likes_received      0\n",
       "www_likes                  0\n",
       "www_likes_received         0\n",
       "dtype: int64"
      ]
     },
     "execution_count": 6,
     "metadata": {},
     "output_type": "execute_result"
    }
   ],
   "source": [
    "data.shape[0]-data.count()"
   ]
  },
  {
   "cell_type": "markdown",
   "id": "350a1941",
   "metadata": {},
   "source": [
    "### Observation\n",
    " - Only 'gender' column has considerable missing values.\n",
    " - 'tenure' column has 2 missing values.Which can be ignored.\n",
    " "
   ]
  },
  {
   "cell_type": "markdown",
   "id": "00c693f6",
   "metadata": {},
   "source": [
    "## 5. Data Pre - Profiling\n",
    "<a name = Section5></a>\n",
    "    - In this section we perform pandas profiling to gnerate profiling report and do certain observations."
   ]
  },
  {
   "cell_type": "code",
   "execution_count": 7,
   "id": "60d09de9",
   "metadata": {},
   "outputs": [
    {
     "data": {
      "application/vnd.jupyter.widget-view+json": {
       "model_id": "d79f8e2ad850460cba1ca3d4a4a9f7cc",
       "version_major": 2,
       "version_minor": 0
      },
      "text/plain": [
       "Summarize dataset:   0%|          | 0/5 [00:00<?, ?it/s]"
      ]
     },
     "metadata": {},
     "output_type": "display_data"
    },
    {
     "data": {
      "application/vnd.jupyter.widget-view+json": {
       "model_id": "29700cae08e04740b89495581f6ab5f3",
       "version_major": 2,
       "version_minor": 0
      },
      "text/plain": [
       "Generate report structure:   0%|          | 0/1 [00:00<?, ?it/s]"
      ]
     },
     "metadata": {},
     "output_type": "display_data"
    },
    {
     "data": {
      "application/vnd.jupyter.widget-view+json": {
       "model_id": "af432c1f51ad4b8d9ad92e472963016f",
       "version_major": 2,
       "version_minor": 0
      },
      "text/plain": [
       "Render HTML:   0%|          | 0/1 [00:00<?, ?it/s]"
      ]
     },
     "metadata": {},
     "output_type": "display_data"
    },
    {
     "data": {
      "application/vnd.jupyter.widget-view+json": {
       "model_id": "9d154f5162f744e89f48936957dcc342",
       "version_major": 2,
       "version_minor": 0
      },
      "text/plain": [
       "Export report to file:   0%|          | 0/1 [00:00<?, ?it/s]"
      ]
     },
     "metadata": {},
     "output_type": "display_data"
    },
    {
     "name": "stdout",
     "output_type": "stream",
     "text": [
      "Accomplished!\n"
     ]
    }
   ],
   "source": [
    "profile = ProfileReport(df = data)\n",
    "profile.to_file(output_file = 'Pre Profiling Report.html')\n",
    "print('Accomplished!')"
   ]
  },
  {
   "cell_type": "markdown",
   "id": "a50ef4c6",
   "metadata": {},
   "source": [
    "## 6 Data Pre - Processing\n",
    "<a name = Section6></a>\n",
    "\n",
    "- This section deals with manipulating the data to get structured data.\n",
    "- This can be achieved by following operations.\n",
    "       - Handling missing data.\n",
    "       - Handling redundant data.\n",
    "       - Hnadling inconsistent data.\n",
    "       - Handling outliers.\n",
    "       - Handling typos."
   ]
  },
  {
   "cell_type": "markdown",
   "id": "54a897c5",
   "metadata": {},
   "source": [
    "\n",
    "- We have found that gender column has missing values.\n",
    "- We will fill missing entries with the mode of the column.\n",
    " "
   ]
  },
  {
   "cell_type": "code",
   "execution_count": 8,
   "id": "5564b375",
   "metadata": {},
   "outputs": [],
   "source": [
    "data.gender = data.gender.fillna(value=data.gender.mode()[0])"
   ]
  },
  {
   "cell_type": "code",
   "execution_count": 9,
   "id": "775a0d60",
   "metadata": {},
   "outputs": [
    {
     "data": {
      "text/plain": [
       "94097"
      ]
     },
     "execution_count": 9,
     "metadata": {},
     "output_type": "execute_result"
    }
   ],
   "source": [
    "data[data.age<=90].age.count()"
   ]
  },
  {
   "cell_type": "code",
   "execution_count": 10,
   "id": "1e6ece4c",
   "metadata": {
    "scrolled": true
   },
   "outputs": [
    {
     "name": "stdout",
     "output_type": "stream",
     "text": [
      "<class 'pandas.core.frame.DataFrame'>\n",
      "RangeIndex: 99003 entries, 0 to 99002\n",
      "Data columns (total 15 columns):\n",
      " #   Column                 Non-Null Count  Dtype  \n",
      "---  ------                 --------------  -----  \n",
      " 0   userid                 99003 non-null  int64  \n",
      " 1   age                    99003 non-null  int64  \n",
      " 2   dob_day                99003 non-null  int64  \n",
      " 3   dob_year               99003 non-null  int64  \n",
      " 4   dob_month              99003 non-null  int64  \n",
      " 5   gender                 99003 non-null  object \n",
      " 6   tenure                 99001 non-null  float64\n",
      " 7   friend_count           99003 non-null  int64  \n",
      " 8   friendships_initiated  99003 non-null  int64  \n",
      " 9   likes                  99003 non-null  int64  \n",
      " 10  likes_received         99003 non-null  int64  \n",
      " 11  mobile_likes           99003 non-null  int64  \n",
      " 12  mobile_likes_received  99003 non-null  int64  \n",
      " 13  www_likes              99003 non-null  int64  \n",
      " 14  www_likes_received     99003 non-null  int64  \n",
      "dtypes: float64(1), int64(13), object(1)\n",
      "memory usage: 11.3+ MB\n"
     ]
    }
   ],
   "source": [
    "data.info()"
   ]
  },
  {
   "cell_type": "markdown",
   "id": "74fadfcc",
   "metadata": {},
   "source": [
    "## 7. Data post Profiling\n",
    "<a name = Section7></a>\n",
    "- Here we generate pandas profiling report on clean data.\n",
    "- observations are made to track changes."
   ]
  },
  {
   "cell_type": "code",
   "execution_count": 11,
   "id": "d915c762",
   "metadata": {},
   "outputs": [
    {
     "data": {
      "application/vnd.jupyter.widget-view+json": {
       "model_id": "8393da9eb1f842f8bda4e6bdcf9c9f4a",
       "version_major": 2,
       "version_minor": 0
      },
      "text/plain": [
       "Summarize dataset:   0%|          | 0/5 [00:00<?, ?it/s]"
      ]
     },
     "metadata": {},
     "output_type": "display_data"
    },
    {
     "data": {
      "application/vnd.jupyter.widget-view+json": {
       "model_id": "8fa22c69a2ee463aa6cc66037f63d608",
       "version_major": 2,
       "version_minor": 0
      },
      "text/plain": [
       "Generate report structure:   0%|          | 0/1 [00:00<?, ?it/s]"
      ]
     },
     "metadata": {},
     "output_type": "display_data"
    },
    {
     "data": {
      "application/vnd.jupyter.widget-view+json": {
       "model_id": "df38bf5d6dfd4648b475b7873224e091",
       "version_major": 2,
       "version_minor": 0
      },
      "text/plain": [
       "Render HTML:   0%|          | 0/1 [00:00<?, ?it/s]"
      ]
     },
     "metadata": {},
     "output_type": "display_data"
    },
    {
     "data": {
      "application/vnd.jupyter.widget-view+json": {
       "model_id": "9040fffdbda3447182bbb864ec7ae431",
       "version_major": 2,
       "version_minor": 0
      },
      "text/plain": [
       "Export report to file:   0%|          | 0/1 [00:00<?, ?it/s]"
      ]
     },
     "metadata": {},
     "output_type": "display_data"
    },
    {
     "name": "stdout",
     "output_type": "stream",
     "text": [
      "Accomplished!\n"
     ]
    }
   ],
   "source": [
    "profile = ProfileReport(df = data)\n",
    "profile.to_file(output_file = 'Post Profiling Report.html')\n",
    "print('Accomplished!')"
   ]
  },
  {
   "cell_type": "markdown",
   "id": "a104e084",
   "metadata": {},
   "source": [
    "### Observations\n",
    "- We have successfully handled missing values.\n",
    "- 'tenure' column had negligible no of missing values and we have ignored it."
   ]
  },
  {
   "cell_type": "markdown",
   "id": "8ea1517a",
   "metadata": {},
   "source": [
    "## 8. Exploratory Data Analysis\n",
    "<a name = Section8><a/>\n",
    "- This section deals with asking relevent questions to get meaningful conclusions about data.\n",
    "- We will be able to get actionable insights from the data.\n",
    "    "
   ]
  },
  {
   "cell_type": "markdown",
   "id": "d8fc9a2e",
   "metadata": {},
   "source": [
    "### Question 1. Who has more friends, Men or Women?"
   ]
  },
  {
   "cell_type": "code",
   "execution_count": 12,
   "id": "0f319a19",
   "metadata": {},
   "outputs": [
    {
     "data": {
      "text/html": [
       "<div>\n",
       "<style scoped>\n",
       "    .dataframe tbody tr th:only-of-type {\n",
       "        vertical-align: middle;\n",
       "    }\n",
       "\n",
       "    .dataframe tbody tr th {\n",
       "        vertical-align: top;\n",
       "    }\n",
       "\n",
       "    .dataframe thead th {\n",
       "        text-align: right;\n",
       "    }\n",
       "</style>\n",
       "<table border=\"1\" class=\"dataframe\">\n",
       "  <thead>\n",
       "    <tr style=\"text-align: right;\">\n",
       "      <th></th>\n",
       "      <th>No of friends</th>\n",
       "    </tr>\n",
       "    <tr>\n",
       "      <th>gender</th>\n",
       "      <th></th>\n",
       "    </tr>\n",
       "  </thead>\n",
       "  <tbody>\n",
       "    <tr>\n",
       "      <th>female</th>\n",
       "      <td>2177</td>\n",
       "    </tr>\n",
       "    <tr>\n",
       "      <th>male</th>\n",
       "      <td>1803</td>\n",
       "    </tr>\n",
       "  </tbody>\n",
       "</table>\n",
       "</div>"
      ],
      "text/plain": [
       "        No of friends\n",
       "gender               \n",
       "female           2177\n",
       "male             1803"
      ]
     },
     "execution_count": 12,
     "metadata": {},
     "output_type": "execute_result"
    }
   ],
   "source": [
    "gender_friends = pd.DataFrame(data.groupby(['gender'])['friend_count'].nunique())\n",
    "gender_friends.columns = ['No of friends']\n",
    "gender_friends.head()"
   ]
  },
  {
   "cell_type": "markdown",
   "id": "bf869284",
   "metadata": {},
   "source": [
    "### Question 2. Who initiated more friend requests, Men or Women?"
   ]
  },
  {
   "cell_type": "code",
   "execution_count": 13,
   "id": "6df8b0e1",
   "metadata": {
    "scrolled": true
   },
   "outputs": [
    {
     "data": {
      "text/html": [
       "<div>\n",
       "<style scoped>\n",
       "    .dataframe tbody tr th:only-of-type {\n",
       "        vertical-align: middle;\n",
       "    }\n",
       "\n",
       "    .dataframe tbody tr th {\n",
       "        vertical-align: top;\n",
       "    }\n",
       "\n",
       "    .dataframe thead th {\n",
       "        text-align: right;\n",
       "    }\n",
       "</style>\n",
       "<table border=\"1\" class=\"dataframe\">\n",
       "  <thead>\n",
       "    <tr style=\"text-align: right;\">\n",
       "      <th></th>\n",
       "      <th>No of requests</th>\n",
       "    </tr>\n",
       "    <tr>\n",
       "      <th>gender</th>\n",
       "      <th></th>\n",
       "    </tr>\n",
       "  </thead>\n",
       "  <tbody>\n",
       "    <tr>\n",
       "      <th>female</th>\n",
       "      <td>1218</td>\n",
       "    </tr>\n",
       "    <tr>\n",
       "      <th>male</th>\n",
       "      <td>1306</td>\n",
       "    </tr>\n",
       "  </tbody>\n",
       "</table>\n",
       "</div>"
      ],
      "text/plain": [
       "        No of requests\n",
       "gender                \n",
       "female            1218\n",
       "male              1306"
      ]
     },
     "execution_count": 13,
     "metadata": {},
     "output_type": "execute_result"
    }
   ],
   "source": [
    "gender_requests = pd.DataFrame(data.groupby(['gender'])['friendships_initiated'].nunique())\n",
    "gender_requests.columns = ['No of requests']\n",
    "gender_requests"
   ]
  },
  {
   "cell_type": "code",
   "execution_count": 14,
   "id": "d5838ab8",
   "metadata": {},
   "outputs": [
    {
     "data": {
      "text/plain": [
       "<Figure size 1080x504 with 0 Axes>"
      ]
     },
     "metadata": {},
     "output_type": "display_data"
    },
    {
     "data": {
      "image/png": "[encoded data removed]",
      "text/plain": [
       "<Figure size 432x288 with 1 Axes>"
      ]
     },
     "metadata": {
      "needs_background": "light"
     },
     "output_type": "display_data"
    }
   ],
   "source": [
    "igure = plt.figure(figsize=[15, 7])\n",
    "\n",
    "# Using magic of pandas bar function\n",
    "(gender_requests.plot.bar(color='#3F617A'))\n",
    "\n",
    "# Changing x-ticks label size to 12 and rotating to 90 degrees\n",
    "plt.xticks(rotation=90, size=12)\n",
    "\n",
    "# Changing y-ticks value using an array of size 0.3 with a step size of 0.05\n",
    "plt.yticks(ticks=np.arange(0, 1600, 100), size=12)\n",
    "\n",
    "# Labelling x-axis with a custom label and size of 14\n",
    "plt.xlabel(xlabel='gender', size=14)\n",
    "\n",
    "# Labelling y-axis with a custom label and size of 14\n",
    "plt.ylabel(ylabel='friendships initiated', size=14)\n",
    "\n",
    "# Labelling title with a custom label and size of 16\n",
    "plt.title(label='Number of friend requests per gender', size=16)\n",
    "\n",
    "# Dispaly the output by rendering visual on the screen\n",
    "plt.show()"
   ]
  },
  {
   "cell_type": "markdown",
   "id": "0932d2e1",
   "metadata": {},
   "source": [
    "### Question 3. Who  received more likes men or women ? "
   ]
  },
  {
   "cell_type": "code",
   "execution_count": 15,
   "id": "77a423fe",
   "metadata": {},
   "outputs": [
    {
     "data": {
      "text/html": [
       "<div>\n",
       "<style scoped>\n",
       "    .dataframe tbody tr th:only-of-type {\n",
       "        vertical-align: middle;\n",
       "    }\n",
       "\n",
       "    .dataframe tbody tr th {\n",
       "        vertical-align: top;\n",
       "    }\n",
       "\n",
       "    .dataframe thead th {\n",
       "        text-align: right;\n",
       "    }\n",
       "</style>\n",
       "<table border=\"1\" class=\"dataframe\">\n",
       "  <thead>\n",
       "    <tr style=\"text-align: right;\">\n",
       "      <th></th>\n",
       "      <th>likes</th>\n",
       "    </tr>\n",
       "    <tr>\n",
       "      <th>gender</th>\n",
       "      <th></th>\n",
       "    </tr>\n",
       "  </thead>\n",
       "  <tbody>\n",
       "    <tr>\n",
       "      <th>female</th>\n",
       "      <td>2376</td>\n",
       "    </tr>\n",
       "    <tr>\n",
       "      <th>male</th>\n",
       "      <td>1435</td>\n",
       "    </tr>\n",
       "  </tbody>\n",
       "</table>\n",
       "</div>"
      ],
      "text/plain": [
       "        likes\n",
       "gender       \n",
       "female   2376\n",
       "male     1435"
      ]
     },
     "execution_count": 15,
     "metadata": {},
     "output_type": "execute_result"
    }
   ],
   "source": [
    "gender_likes = pd.DataFrame(data.groupby(['gender'])['likes_received'].nunique())\n",
    "gender_likes.columns = ['likes']\n",
    "gender_likes.head()"
   ]
  },
  {
   "cell_type": "markdown",
   "id": "47853ed7",
   "metadata": {},
   "source": [
    "### Question 4. Who uses Facebook more Men or Women?"
   ]
  },
  {
   "cell_type": "code",
   "execution_count": 16,
   "id": "fb500bba",
   "metadata": {},
   "outputs": [
    {
     "data": {
      "text/plain": [
       "male      58749\n",
       "female    40254\n",
       "Name: gender, dtype: int64"
      ]
     },
     "execution_count": 16,
     "metadata": {},
     "output_type": "execute_result"
    }
   ],
   "source": [
    "data.gender.value_counts()"
   ]
  },
  {
   "cell_type": "markdown",
   "id": "81988178",
   "metadata": {},
   "source": [
    "### Question 5.Do tenure and no of friends have correlation?"
   ]
  },
  {
   "cell_type": "code",
   "execution_count": 17,
   "id": "f4f74ce9",
   "metadata": {},
   "outputs": [
    {
     "data": {
      "image/png": "[encoded data removed]",
      "text/plain": [
       "<Figure size 1080x504 with 2 Axes>"
      ]
     },
     "metadata": {
      "needs_background": "light"
     },
     "output_type": "display_data"
    }
   ],
   "source": [
    "figure = plt.figure(figsize=[15, 7])\n",
    "\n",
    "# Using magic of seaborn's heatmap() function\n",
    "sns.heatmap(data=data.corr(), annot=True, cmap='viridis')\n",
    "\n",
    "# Changing x-ticks label size to 12\n",
    "plt.xticks(size=12, rotation=90)\n",
    "\n",
    "# Changing y-ticks label size to 12\n",
    "plt.yticks(size=12)\n",
    "\n",
    "# Labelling x-axis with a custom label and size of 14\n",
    "plt.xlabel(xlabel='Feature Space X', size=14)\n",
    "\n",
    "# Labelling y-axis with a custom label and size of 14\n",
    "plt.ylabel(ylabel='Feature Space Y', size=14)\n",
    "\n",
    "# Labelling title with a custom label and size of 14\n",
    "plt.title(label='Correlation of Features', size=16)\n",
    "\n",
    "# Dispaly the output by rendering visual on the screen\n",
    "plt.show()"
   ]
  },
  {
   "cell_type": "code",
   "execution_count": 18,
   "id": "068eeafc",
   "metadata": {},
   "outputs": [
    {
     "data": {
      "text/plain": [
       "25111"
      ]
     },
     "execution_count": 18,
     "metadata": {},
     "output_type": "execute_result"
    }
   ],
   "source": [
    "data.likes.max()"
   ]
  },
  {
   "cell_type": "markdown",
   "id": "a654aa95",
   "metadata": {},
   "source": [
    "### 6. Users of which agegroup are more active on facebook?"
   ]
  },
  {
   "cell_type": "code",
   "execution_count": 19,
   "id": "83e86676",
   "metadata": {},
   "outputs": [
    {
     "data": {
      "text/html": [
       "<div>\n",
       "<style scoped>\n",
       "    .dataframe tbody tr th:only-of-type {\n",
       "        vertical-align: middle;\n",
       "    }\n",
       "\n",
       "    .dataframe tbody tr th {\n",
       "        vertical-align: top;\n",
       "    }\n",
       "\n",
       "    .dataframe thead th {\n",
       "        text-align: right;\n",
       "    }\n",
       "</style>\n",
       "<table border=\"1\" class=\"dataframe\">\n",
       "  <thead>\n",
       "    <tr style=\"text-align: right;\">\n",
       "      <th></th>\n",
       "      <th>likes</th>\n",
       "    </tr>\n",
       "    <tr>\n",
       "      <th>age</th>\n",
       "      <th></th>\n",
       "    </tr>\n",
       "  </thead>\n",
       "  <tbody>\n",
       "    <tr>\n",
       "      <th>13</th>\n",
       "      <td>164</td>\n",
       "    </tr>\n",
       "    <tr>\n",
       "      <th>14</th>\n",
       "      <td>464</td>\n",
       "    </tr>\n",
       "    <tr>\n",
       "      <th>15</th>\n",
       "      <td>583</td>\n",
       "    </tr>\n",
       "    <tr>\n",
       "      <th>16</th>\n",
       "      <td>665</td>\n",
       "    </tr>\n",
       "    <tr>\n",
       "      <th>17</th>\n",
       "      <td>680</td>\n",
       "    </tr>\n",
       "  </tbody>\n",
       "</table>\n",
       "</div>"
      ],
      "text/plain": [
       "     likes\n",
       "age       \n",
       "13     164\n",
       "14     464\n",
       "15     583\n",
       "16     665\n",
       "17     680"
      ]
     },
     "execution_count": 19,
     "metadata": {},
     "output_type": "execute_result"
    }
   ],
   "source": [
    "age_likes = pd.DataFrame(data.groupby(['age'])['likes'].nunique())\n",
    "age_likes.columns = ['likes']\n",
    "age_likes.head()"
   ]
  },
  {
   "cell_type": "code",
   "execution_count": 20,
   "id": "baaf3bd5",
   "metadata": {
    "scrolled": true
   },
   "outputs": [
    {
     "data": {
      "text/plain": [
       "<AxesSubplot:xlabel='age'>"
      ]
     },
     "execution_count": 20,
     "metadata": {},
     "output_type": "execute_result"
    },
    {
     "data": {
      "image/png": "[encoded data removed]",
      "text/plain": [
       "<Figure size 432x288 with 1 Axes>"
      ]
     },
     "metadata": {
      "needs_background": "light"
     },
     "output_type": "display_data"
    }
   ],
   "source": [
    "age_likes.plot.area()"
   ]
  },
  {
   "cell_type": "markdown",
   "id": "9e3643b2",
   "metadata": {},
   "source": [
    "### Question 7. Which agegroup uses facebook more?"
   ]
  },
  {
   "cell_type": "code",
   "execution_count": 21,
   "id": "64d0dc12",
   "metadata": {},
   "outputs": [
    {
     "data": {
      "image/png": "[encoded data removed]",
      "text/plain": [
       "<Figure size 1080x504 with 1 Axes>"
      ]
     },
     "metadata": {
      "needs_background": "light"
     },
     "output_type": "display_data"
    }
   ],
   "source": [
    "# Creating a custom figure size of 15 X 7 inches\n",
    "figure = plt.figure(figsize=[15, 7])\n",
    "\n",
    "# Creating custom bins for the graph\n",
    "bins = [10,20,30, 40, 50, 60, 70, 80, 90, 100, 110,120]\n",
    "\n",
    "# Using magic of pandas area() function\n",
    "data['age'].plot.hist(bins=bins, color='green')\n",
    "\n",
    "# Changing x-ticks equal to custom bin values\n",
    "plt.xticks(ticks=bins, size=12)\n",
    "\n",
    "# Changing y-ticks ranging from 0 to 22 with step size of 3 and label size of 12\n",
    "plt.yticks(ticks=np.arange(0, 50000, 10000), size=12)\n",
    "\n",
    "# Labelling x-axis with a custom label and size of 14\n",
    "plt.xlabel(xlabel='age', size=14)\n",
    "\n",
    "# Labelling y-axis with a custom label and size of 14\n",
    "plt.ylabel(ylabel='Frequency', size=14)\n",
    "\n",
    "# Labelling title with a custom label and size of 14\n",
    "plt.title(label='Distribution age ', size=16)\n",
    "\n",
    "# Dispaly the output by rendering visual on the screen\n",
    "plt.show()"
   ]
  },
  {
   "cell_type": "markdown",
   "id": "e96cae19",
   "metadata": {},
   "source": [
    "### Question 8.Is facebook on mobile is popular ?"
   ]
  },
  {
   "cell_type": "code",
   "execution_count": 22,
   "id": "e54a02b7",
   "metadata": {},
   "outputs": [
    {
     "data": {
      "text/plain": [
       "<AxesSubplot:xlabel='category'>"
      ]
     },
     "execution_count": 22,
     "metadata": {},
     "output_type": "execute_result"
    },
    {
     "data": {
      "image/png": "[encoded data removed]",
      "text/plain": [
       "<Figure size 432x288 with 1 Axes>"
      ]
     },
     "metadata": {
      "needs_background": "light"
     },
     "output_type": "display_data"
    }
   ],
   "source": [
    "df = pd.DataFrame({'category':['www_likes', 'mobile_likes'], 'val':[data.www_likes.sum(), data.mobile_likes.sum()]})\n",
    "df.plot.bar(x='category',y='val', rot=0)                                                  "
   ]
  },
  {
   "cell_type": "markdown",
   "id": "3418c455",
   "metadata": {},
   "source": [
    "# 9. Summarization\n",
    "<a name = section9><a/>\n",
    "    - In this section we summerize our work.\n",
    "    "
   ]
  },
  {
   "cell_type": "markdown",
   "id": "e02a982c",
   "metadata": {},
   "source": [
    "### 9.1 Observations(Conclusions)\n",
    " 1. we can say Men and women are equally active on FB,i.e there is no much difference in activity.\n",
    " 2. We can not say that long term users have more friends.i.e tenure and friends count not corelated.\n",
    " 3. Most of the users are of age group 20 to 30.\n",
    " 4. Most of the times facebook is accessed through mobiles.\n",
    " 5. There is scope for doubt about Many seniour citizens using facebook significantly especially of agegroup 100 to 110."
   ]
  },
  {
   "cell_type": "markdown",
   "id": "01e4dcf4",
   "metadata": {},
   "source": [
    "### 9.2 Actionable insights\n",
    " 1. Any product or service useful to people of agegroup 20 to 30, such as any skill development training  can be promoted on facebook.\n",
    " 2.  As most of the users access facebook through mobile, any campaign is designed in such away that it should be able to work on mobile without any difficulty."
   ]
  }
 ],
 "metadata": {
  "kernelspec": {
   "display_name": "Python 3 (ipykernel)",
   "language": "python",
   "name": "python3"
  },
  "language_info": {
   "codemirror_mode": {
    "name": "ipython",
    "version": 3
   },
   "file_extension": ".py",
   "mimetype": "text/x-python",
   "name": "python",
   "nbconvert_exporter": "python",
   "pygments_lexer": "ipython3",
   "version": "3.9.7"
  }
 },
 "nbformat": 4,
 "nbformat_minor": 5
}
